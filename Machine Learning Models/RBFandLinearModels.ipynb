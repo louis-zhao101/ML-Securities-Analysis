{
  "nbformat": 4,
  "nbformat_minor": 0,
  "metadata": {
    "colab": {
      "name": "RBFandLinearModels.ipynb",
      "provenance": []
    },
    "kernelspec": {
      "name": "python3",
      "display_name": "Python 3"
    },
    "language_info": {
      "name": "python"
    }
  },
  "cells": [
    {
      "cell_type": "code",
      "metadata": {
        "id": "wOFcViu0IfKq"
      },
      "source": [
        "pip install yfinance"
      ],
      "execution_count": null,
      "outputs": []
    },
    {
      "cell_type": "code",
      "metadata": {
        "id": "89BeeqnVIoNF"
      },
      "source": [
        "from sklearn.svm import SVR\n",
        "import numpy as np \n",
        "import pandas as pd \n",
        "import matplotlib.pyplot as plt \n",
        "from datetime import datetime\n",
        "import yfinance as yf"
      ],
      "execution_count": 2,
      "outputs": []
    },
    {
      "cell_type": "code",
      "metadata": {
        "id": "9_jyX98uUMuV"
      },
      "source": [
        "sp500df = pd.read_csv('https://raw.githubusercontent.com/the-data-science-union/Earnings-Predictions/main/S%26P500%20Companies.csv')"
      ],
      "execution_count": 3,
      "outputs": []
    },
    {
      "cell_type": "markdown",
      "metadata": {
        "id": "fQP0QNU3YFJs"
      },
      "source": [
        "# RBF Models from 5/02/2020 to Now \n",
        "\n",
        "\n",
        "*   ConsumerDiscretionary\n",
        "*   Information Technology\n",
        "*   Financials\n",
        "\n"
      ]
    },
    {
      "cell_type": "code",
      "metadata": {
        "id": "5a9hsjCkUQzo",
        "colab": {
          "base_uri": "https://localhost:8080/"
        },
        "outputId": "6d1e3579-fd3d-4083-bafc-803a0a1dd4c2"
      },
      "source": [
        "i=sp500df[sp500df['Symbol']=='AMZN']\n",
        "print(i['GICS Sector'])"
      ],
      "execution_count": 87,
      "outputs": [
        {
          "output_type": "stream",
          "text": [
            "25    Consumer Discretionary\n",
            "Name: GICS Sector, dtype: object\n"
          ],
          "name": "stdout"
        }
      ]
    },
    {
      "cell_type": "code",
      "metadata": {
        "id": "2oDgLlCNUu9a",
        "colab": {
          "base_uri": "https://localhost:8080/"
        },
        "outputId": "ca2ad238-7750-4079-ae16-59f8700a4b96"
      },
      "source": [
        "i = sp500df[sp500df['GICS Sector'] == 'Consumer Discretionary']\n",
        "#print(i)\n",
        "tickerConsDisc= [] \n",
        "tickerConsDisc.append(i['Symbol'].values)\n",
        "tickerConsDisc\n",
        "trial=[]\n",
        "for i in range(len(tickerConsDisc[0])):\n",
        "  symbol = tickerConsDisc[0][i]\n",
        "  #yf.Ticker(symbol)\n",
        "  #trial.append(symbol)\n",
        "  yf.Ticker(symbol)\n",
        "  \n",
        "\n",
        "#for tick in tickerConsDisc: \n",
        "  #yf.Ticker(tick)\n",
        "trial\n",
        "#print(trial)"
      ],
      "execution_count": 88,
      "outputs": [
        {
          "output_type": "execute_result",
          "data": {
            "text/plain": [
              "[]"
            ]
          },
          "metadata": {
            "tags": []
          },
          "execution_count": 88
        }
      ]
    },
    {
      "cell_type": "code",
      "metadata": {
        "id": "jMZV-KPeIqtn"
      },
      "source": [
        "ticker = ['AMZN', 'AMD']\n",
        "tail_close = [] \n",
        "predicted_value = []"
      ],
      "execution_count": 89,
      "outputs": []
    },
    {
      "cell_type": "code",
      "metadata": {
        "id": "0l8VqYwXIvJR"
      },
      "source": [
        "for i in range(len(tickerConsDisc[0])):\n",
        "  symbol = tickerConsDisc[0][i]\n",
        "  data = yf.Ticker(symbol)\n",
        "  df = data.history(period='1d', start= '2020-5-2', end = '2021-5-18')\n",
        "  df_Open=df[['Open']]\n",
        "  df_dates2=df.index.to_frame().reset_index(drop=True)\n",
        "  df['Date']= df_dates2['Date'].values\n",
        "  df['Date']= df_dates2['Date'].values\n",
        "  df['Date'] = df['Date'].astype(str)\n",
        "  df['new_date'] = df['Date'].str.replace('\\D', '').astype(int)\n",
        "  actual_price2 = df.tail(1)\n",
        "  actual_close = actual_price2['Close']\n",
        "  tail_close.append(actual_close)\n",
        "  df = df.head(len(df)-1)\n",
        "  days2 = list()\n",
        "  close_prices2= list()\n",
        "  df_days2 = df.loc[:,'new_date']\n",
        "  df_close_price2 = df.loc[:,'Close']\n",
        "  for dates2 in df_days2:\n",
        "    days2.append([int(dates2)])\n",
        "  for price2 in df_close_price2: \n",
        "    close_prices2.append(float(price2))\n",
        "  rbf = SVR(kernel= 'rbf', C= 1000.0, gamma= 0.1)\n",
        "  rbf.fit(days2, close_prices2)\n",
        "  day= [[20210517]]\n",
        "  predicted_value.append(rbf.predict(day))\n",
        "\n",
        "\n"
      ],
      "execution_count": 90,
      "outputs": []
    },
    {
      "cell_type": "code",
      "metadata": {
        "id": "ZK5GNwMwI0Ri",
        "colab": {
          "base_uri": "https://localhost:8080/"
        },
        "outputId": "ab0843ad-88cc-485d-b6a4-7e4cfb0c472a"
      },
      "source": [
        "print(len(predicted_value))\n",
        "print(len(tail_close))\n",
        "\n"
      ],
      "execution_count": 91,
      "outputs": [
        {
          "output_type": "stream",
          "text": [
            "63\n",
            "63\n"
          ],
          "name": "stdout"
        }
      ]
    },
    {
      "cell_type": "code",
      "metadata": {
        "id": "3ftoJNbiJJcn"
      },
      "source": [
        "predicted_value"
      ],
      "execution_count": null,
      "outputs": []
    },
    {
      "cell_type": "code",
      "metadata": {
        "id": "5Q9dEsqNQqDp"
      },
      "source": [
        "tail_close"
      ],
      "execution_count": null,
      "outputs": []
    },
    {
      "cell_type": "code",
      "metadata": {
        "id": "7tszLViFQqvW"
      },
      "source": [
        "sumPredicted = 0 \n",
        "tailActual = 0\n",
        "\n",
        "for index in range(len(predicted_value)):\n",
        "  #print(type(predicted_value[index][0]))\n",
        "  sumPredicted= sumPredicted+ predicted_value[index][0]\n",
        "\n",
        "\n",
        "for index in range(len(predicted_value)):\n",
        "  tailActual = tailActual + tail_close[index][0]\n",
        "\n"
      ],
      "execution_count": 94,
      "outputs": []
    },
    {
      "cell_type": "code",
      "metadata": {
        "id": "pF8a50gxRsql",
        "colab": {
          "base_uri": "https://localhost:8080/"
        },
        "outputId": "df753f68-661f-4100-bdc1-69b60f5a2f25"
      },
      "source": [
        "print (sumPredicted)\n",
        "print (tailActual)"
      ],
      "execution_count": 95,
      "outputs": [
        {
          "output_type": "stream",
          "text": [
            "19809.701565295432\n",
            "21405.000024795532\n"
          ],
          "name": "stdout"
        }
      ]
    },
    {
      "cell_type": "code",
      "metadata": {
        "colab": {
          "base_uri": "https://localhost:8080/"
        },
        "id": "H8X8IGJjTf_H",
        "outputId": "632e4055-621a-469e-9640-f7210803e7af"
      },
      "source": [
        "print('The percent error for this is: ', float((abs(tailActual-(sumPredicted))/tailActual)*100),'%')"
      ],
      "execution_count": 96,
      "outputs": [
        {
          "output_type": "stream",
          "text": [
            "The percent error for this is:  7.452924352497583 %\n"
          ],
          "name": "stdout"
        }
      ]
    },
    {
      "cell_type": "markdown",
      "metadata": {
        "id": "9K5RnM5iYVLr"
      },
      "source": [
        "# Information Technology "
      ]
    },
    {
      "cell_type": "code",
      "metadata": {
        "id": "LutaASqLT5XZ"
      },
      "source": [
        "i = sp500df[sp500df['GICS Sector'] == 'Information Technology']\n"
      ],
      "execution_count": 97,
      "outputs": []
    },
    {
      "cell_type": "code",
      "metadata": {
        "id": "0GlscG1WYZnx",
        "colab": {
          "base_uri": "https://localhost:8080/",
          "height": 35
        },
        "outputId": "b7210958-f989-4828-cb2c-e63167011694"
      },
      "source": [
        "tickerInfo= [] \n",
        "tickerInfo.append(i['Symbol'].values)\n",
        "tickerInfo\n",
        "len(tickerInfo[0])\n",
        "tickerInfo\n",
        "tickerInfo= np.delete(tickerInfo[0], [65])\n",
        "tickerInfo[0]"
      ],
      "execution_count": 98,
      "outputs": [
        {
          "output_type": "execute_result",
          "data": {
            "application/vnd.google.colaboratory.intrinsic+json": {
              "type": "string"
            },
            "text/plain": [
              "'ACN'"
            ]
          },
          "metadata": {
            "tags": []
          },
          "execution_count": 98
        }
      ]
    },
    {
      "cell_type": "code",
      "metadata": {
        "id": "SRhk93S9Yg8q"
      },
      "source": [
        "tail_close = [] \n",
        "predicted_value = []"
      ],
      "execution_count": 99,
      "outputs": []
    },
    {
      "cell_type": "code",
      "metadata": {
        "id": "dcrLSCesYnWd"
      },
      "source": [
        "#for i in range(len(tickerInfo[0])):\n",
        "for symbol in tickerInfo:\n",
        "  #symbol = tickerInfo[0][i]\n",
        "  data = yf.Ticker(symbol)\n",
        "  df = data.history(period='1d', start= '2020-5-2', end = '2021-5-18')\n",
        "  df_Open=df[['Open']]\n",
        "  df_dates2=df.index.to_frame().reset_index(drop=True)\n",
        "  df['Date']= df_dates2['Date'].values\n",
        "  df['Date']= df_dates2['Date'].values\n",
        "  df['Date'] = df['Date'].astype(str)\n",
        "  df['new_date'] = df['Date'].str.replace('\\D', '').astype(int)\n",
        "  actual_price2 = df.tail(1)\n",
        "  actual_close = actual_price2['Close']\n",
        "  tail_close.append(actual_close)\n",
        "  df = df.head(len(df)-1)\n",
        "  days2 = list()\n",
        "  close_prices2= list()\n",
        "  df_days2 = df.loc[:,'new_date']\n",
        "  df_close_price2 = df.loc[:,'Close']\n",
        "  for dates2 in df_days2:\n",
        "    days2.append([int(dates2)])\n",
        "  for price2 in df_close_price2: \n",
        "    close_prices2.append(float(price2))\n",
        "  rbf = SVR(kernel= 'rbf', C= 1000.0, gamma= 0.1)\n",
        "  #print(symbol)\n",
        "  rbf.fit(days2, close_prices2)\n",
        "  day= [[20210517]]\n",
        "  predicted_value.append(rbf.predict(day))\n",
        "\n"
      ],
      "execution_count": 100,
      "outputs": []
    },
    {
      "cell_type": "code",
      "metadata": {
        "id": "0eFBXYQrYpBl",
        "colab": {
          "base_uri": "https://localhost:8080/"
        },
        "outputId": "4b741b8a-e0ae-475f-89ed-2ca8fb204368"
      },
      "source": [
        "print(len(predicted_value))\n",
        "print(len(tail_close))"
      ],
      "execution_count": 101,
      "outputs": [
        {
          "output_type": "stream",
          "text": [
            "73\n",
            "73\n"
          ],
          "name": "stdout"
        }
      ]
    },
    {
      "cell_type": "code",
      "metadata": {
        "id": "E4H3a8FBYrdz"
      },
      "source": [
        "sumPredicted = 0 \n",
        "tailActual = 0\n",
        "\n",
        "for index in range(len(predicted_value)):\n",
        "  #print(type(predicted_value[index][0]))\n",
        "  sumPredicted= sumPredicted+ predicted_value[index][0]\n",
        "\n",
        "\n",
        "for index in range(len(predicted_value)):\n",
        "  tailActual = tailActual + tail_close[index][0]"
      ],
      "execution_count": 102,
      "outputs": []
    },
    {
      "cell_type": "code",
      "metadata": {
        "id": "RuU_gjreYtGi",
        "colab": {
          "base_uri": "https://localhost:8080/"
        },
        "outputId": "d4f92bd9-3365-4e0f-e689-7877c953828b"
      },
      "source": [
        "print (sumPredicted)\n",
        "print (tailActual)"
      ],
      "execution_count": 103,
      "outputs": [
        {
          "output_type": "stream",
          "text": [
            "13165.31639091064\n",
            "13740.410015106201\n"
          ],
          "name": "stdout"
        }
      ]
    },
    {
      "cell_type": "code",
      "metadata": {
        "colab": {
          "base_uri": "https://localhost:8080/"
        },
        "id": "--iabz1bYuyV",
        "outputId": "e80167dd-8fa9-403e-e90f-3e530383b38d"
      },
      "source": [
        "print('The percent error for this is: ', float((abs(tailActual-(sumPredicted))/tailActual)*100),'%')"
      ],
      "execution_count": 104,
      "outputs": [
        {
          "output_type": "stream",
          "text": [
            "The percent error for this is:  4.185418219422149 %\n"
          ],
          "name": "stdout"
        }
      ]
    },
    {
      "cell_type": "markdown",
      "metadata": {
        "id": "M6sU0yeJboGR"
      },
      "source": [
        "# Financials"
      ]
    },
    {
      "cell_type": "code",
      "metadata": {
        "id": "oOSQgOMqbq7T"
      },
      "source": [
        "i = sp500df[sp500df['GICS Sector'] == 'Financials']"
      ],
      "execution_count": 105,
      "outputs": []
    },
    {
      "cell_type": "code",
      "metadata": {
        "colab": {
          "base_uri": "https://localhost:8080/"
        },
        "id": "6R3uL9bmbzSD",
        "outputId": "7d2f6e60-1464-4aeb-c502-e54265f3e01a"
      },
      "source": [
        "tickerFin= [] \n",
        "tickerFin.append(i['Symbol'].values)\n",
        "tickerFin\n",
        "#print(tickerFin.size)\n",
        "tickerFin = np.delete(tickerFin[0],[10])\n",
        "type(tickerFin)\n",
        "tickerFin = np.delete(tickerFin, [16])\n",
        "tickerFin = np.delete(tickerFin, [53])\n",
        "print(tickerFin.size)\n",
        "tickerFin"
      ],
      "execution_count": 106,
      "outputs": [
        {
          "output_type": "stream",
          "text": [
            "62\n"
          ],
          "name": "stdout"
        },
        {
          "output_type": "execute_result",
          "data": {
            "text/plain": [
              "array(['AFL', 'ALL', 'AXP', 'AIG', 'AMP', 'AON', 'AJG', 'AIZ', 'BAC',\n",
              "       'BK', 'BLK', 'COF', 'CBOE', 'SCHW', 'CB', 'CINF', 'CFG', 'CME',\n",
              "       'CMA', 'DFS', 'RE', 'FITB', 'FRC', 'BEN', 'GL', 'GS', 'HIG',\n",
              "       'HBAN', 'ICE', 'IVZ', 'JPM', 'KEY', 'LNC', 'L', 'MTB', 'MKTX',\n",
              "       'MMC', 'MET', 'MCO', 'MS', 'MSCI', 'NDAQ', 'NTRS', 'PBCT', 'PNC',\n",
              "       'PFG', 'PGR', 'PRU', 'RJF', 'RF', 'SPGI', 'STT', 'SIVB', 'TROW',\n",
              "       'TRV', 'TFC', 'USB', 'UNM', 'WRB', 'WFC', 'WLTW', 'ZION'],\n",
              "      dtype=object)"
            ]
          },
          "metadata": {
            "tags": []
          },
          "execution_count": 106
        }
      ]
    },
    {
      "cell_type": "code",
      "metadata": {
        "id": "9EiZjNuEb4IR"
      },
      "source": [
        "tail_close = [] \n",
        "predicted_value = []"
      ],
      "execution_count": 107,
      "outputs": []
    },
    {
      "cell_type": "code",
      "metadata": {
        "id": "uToQNid1cANh"
      },
      "source": [
        "#for i in range(len(tickerFin[0])):\n",
        "for symbol in tickerFin:\n",
        "  #symbol = tickerFin[0][i]\n",
        "  data = yf.Ticker(symbol)\n",
        "  df = data.history(period='1d', start= '2020-5-2', end = '2021-5-18')\n",
        "  df_Open=df[['Open']]\n",
        "  df_dates2=df.index.to_frame().reset_index(drop=True)\n",
        "  df['Date']= df_dates2['Date'].values\n",
        "  df['Date']= df_dates2['Date'].values\n",
        "  df['Date'] = df['Date'].astype(str)\n",
        "  df['new_date'] = df['Date'].str.replace('\\D', '').astype(int)\n",
        "  actual_price2 = df.tail(1)\n",
        "  actual_close = actual_price2['Close']\n",
        "  tail_close.append(actual_close)\n",
        "  df = df.head(len(df)-1)\n",
        "  days2 = list()\n",
        "  close_prices2= list()\n",
        "  df_days2 = df.loc[:,'new_date']\n",
        "  df_close_price2 = df.loc[:,'Close']\n",
        "  for dates2 in df_days2:\n",
        "    days2.append([int(dates2)])\n",
        "  for price2 in df_close_price2: \n",
        "    close_prices2.append(float(price2))\n",
        "  rbf = SVR(kernel= 'rbf', C= 1000.0, gamma= 0.1)\n",
        "  print(symbol)\n",
        "  rbf.fit(days2, close_prices2)\n",
        "  day= [[20210517]]\n",
        "  predicted_value.append(rbf.predict(day))\n",
        "\n"
      ],
      "execution_count": null,
      "outputs": []
    },
    {
      "cell_type": "code",
      "metadata": {
        "colab": {
          "base_uri": "https://localhost:8080/"
        },
        "id": "e6zwf6ZGcE32",
        "outputId": "18c359ab-faa8-448d-b060-035d691b9202"
      },
      "source": [
        "print(len(predicted_value))\n",
        "print(len(tail_close))"
      ],
      "execution_count": 109,
      "outputs": [
        {
          "output_type": "stream",
          "text": [
            "62\n",
            "62\n"
          ],
          "name": "stdout"
        }
      ]
    },
    {
      "cell_type": "code",
      "metadata": {
        "id": "7_nprFC8cKmX"
      },
      "source": [
        "sumPredicted = 0 \n",
        "tailActual = 0\n",
        "\n",
        "for index in range(len(predicted_value)):\n",
        "  #print(type(predicted_value[index][0]))\n",
        "  sumPredicted= sumPredicted+ predicted_value[index][0]\n",
        "\n",
        "\n",
        "for index in range(len(predicted_value)):\n",
        "  tailActual = tailActual + tail_close[index][0]"
      ],
      "execution_count": 110,
      "outputs": []
    },
    {
      "cell_type": "code",
      "metadata": {
        "colab": {
          "base_uri": "https://localhost:8080/"
        },
        "id": "jZHTD_cvcMOV",
        "outputId": "43a2bdee-58b4-48a6-f378-95a128ba411d"
      },
      "source": [
        "print (sumPredicted)\n",
        "print (tailActual)"
      ],
      "execution_count": 111,
      "outputs": [
        {
          "output_type": "stream",
          "text": [
            "8054.861975717429\n",
            "9458.599996566772\n"
          ],
          "name": "stdout"
        }
      ]
    },
    {
      "cell_type": "code",
      "metadata": {
        "colab": {
          "base_uri": "https://localhost:8080/"
        },
        "id": "4Q8dw0iZcN4v",
        "outputId": "95770aa3-84e5-4f9f-fd77-f3442c205832"
      },
      "source": [
        "print('The percent error for this is: ', float((abs(tailActual-(sumPredicted))/tailActual)*100),'%')"
      ],
      "execution_count": 112,
      "outputs": [
        {
          "output_type": "stream",
          "text": [
            "The percent error for this is:  14.840864624351003 %\n"
          ],
          "name": "stdout"
        }
      ]
    },
    {
      "cell_type": "markdown",
      "metadata": {
        "id": "V4Xe1SQmc0KR"
      },
      "source": [
        "# 2012 - Now \n",
        " *   Information Technology"
      ]
    },
    {
      "cell_type": "markdown",
      "metadata": {
        "id": "xYgN5c1grtDH"
      },
      "source": [
        "# Gamma - 0.1\n"
      ]
    },
    {
      "cell_type": "code",
      "metadata": {
        "id": "ieqDceHyczAT"
      },
      "source": [
        "i = sp500df[sp500df['GICS Sector'] == 'Information Technology']\n"
      ],
      "execution_count": 116,
      "outputs": []
    },
    {
      "cell_type": "code",
      "metadata": {
        "colab": {
          "base_uri": "https://localhost:8080/",
          "height": 35
        },
        "id": "9IkfD0TmdEV0",
        "outputId": "c557af43-0b93-445f-bca5-ed84a17da390"
      },
      "source": [
        "tickerInfo= [] \n",
        "tickerInfo.append(i['Symbol'].values)\n",
        "tickerInfo\n",
        "len(tickerInfo[0])\n",
        "tickerInfo\n",
        "tickerInfo= np.delete(tickerInfo[0], [65])\n",
        "tickerInfo[0]"
      ],
      "execution_count": 117,
      "outputs": [
        {
          "output_type": "execute_result",
          "data": {
            "application/vnd.google.colaboratory.intrinsic+json": {
              "type": "string"
            },
            "text/plain": [
              "'ACN'"
            ]
          },
          "metadata": {
            "tags": []
          },
          "execution_count": 117
        }
      ]
    },
    {
      "cell_type": "code",
      "metadata": {
        "id": "UZZPPz5edH3A"
      },
      "source": [
        "tail_close = [] \n",
        "predicted_value = []"
      ],
      "execution_count": 118,
      "outputs": []
    },
    {
      "cell_type": "code",
      "metadata": {
        "id": "2jJUioz_dKFH"
      },
      "source": [
        "#for i in range(len(tickerInfo[0])):\n",
        "for symbol in tickerInfo:\n",
        "  #symbol = tickerInfo[0][i]\n",
        "  data = yf.Ticker(symbol)\n",
        "  df = data.history(period='1d', start= '2012-1-1', end = '2021-5-18')\n",
        "  df_Open=df[['Open']]\n",
        "  df_dates2=df.index.to_frame().reset_index(drop=True)\n",
        "  df['Date']= df_dates2['Date'].values\n",
        "  df['Date']= df_dates2['Date'].values\n",
        "  df['Date'] = df['Date'].astype(str)\n",
        "  df['new_date'] = df['Date'].str.replace('\\D', '').astype(int)\n",
        "  actual_price2 = df.tail(1)\n",
        "  actual_close = actual_price2['Close']\n",
        "  tail_close.append(actual_close)\n",
        "  df = df.head(len(df)-1)\n",
        "  days2 = list()\n",
        "  close_prices2= list()\n",
        "  df_days2 = df.loc[:,'new_date']\n",
        "  df_close_price2 = df.loc[:,'Close']\n",
        "  for dates2 in df_days2:\n",
        "    days2.append([int(dates2)])\n",
        "  for price2 in df_close_price2: \n",
        "    close_prices2.append(float(price2))\n",
        "  rbf = SVR(kernel= 'rbf', C= 1000.0, gamma= 0.1)\n",
        "  print(symbol)\n",
        "  rbf.fit(days2, close_prices2)\n",
        "  day= [[20210517]]\n",
        "  predicted_value.append(rbf.predict(day))\n",
        "\n"
      ],
      "execution_count": null,
      "outputs": []
    },
    {
      "cell_type": "code",
      "metadata": {
        "id": "mryqx3vSdSK3",
        "colab": {
          "base_uri": "https://localhost:8080/"
        },
        "outputId": "9e1e374d-8004-4e55-bf51-337364988012"
      },
      "source": [
        "print(len(predicted_value))\n",
        "print(len(tail_close))"
      ],
      "execution_count": 124,
      "outputs": [
        {
          "output_type": "stream",
          "text": [
            "73\n",
            "73\n"
          ],
          "name": "stdout"
        }
      ]
    },
    {
      "cell_type": "code",
      "metadata": {
        "id": "_0vbo7uqdWgG"
      },
      "source": [
        "sumPredicted = 0 \n",
        "tailActual = 0\n",
        "\n",
        "for index in range(len(predicted_value)):\n",
        "  #print(type(predicted_value[index][0]))\n",
        "  sumPredicted= sumPredicted+ predicted_value[index][0]\n",
        "\n",
        "\n",
        "for index in range(len(predicted_value)):\n",
        "  tailActual = tailActual + tail_close[index][0]"
      ],
      "execution_count": 125,
      "outputs": []
    },
    {
      "cell_type": "code",
      "metadata": {
        "colab": {
          "base_uri": "https://localhost:8080/"
        },
        "id": "KaxSnOFTdhZJ",
        "outputId": "81015106-9be3-4180-c53a-d3137e472e22"
      },
      "source": [
        "print (sumPredicted)\n",
        "print (tailActual)"
      ],
      "execution_count": 126,
      "outputs": [
        {
          "output_type": "stream",
          "text": [
            "9857.23635774863\n",
            "13740.410015106201\n"
          ],
          "name": "stdout"
        }
      ]
    },
    {
      "cell_type": "code",
      "metadata": {
        "colab": {
          "base_uri": "https://localhost:8080/"
        },
        "id": "vnLmPv5cdmHv",
        "outputId": "a018b22c-3d0f-407a-a3e1-892e280b5f21"
      },
      "source": [
        "print('The percent error for this is: ', float((abs(tailActual-(sumPredicted))/tailActual)*100),'%')"
      ],
      "execution_count": 127,
      "outputs": [
        {
          "output_type": "stream",
          "text": [
            "The percent error for this is:  28.260973676101454 %\n"
          ],
          "name": "stdout"
        }
      ]
    },
    {
      "cell_type": "markdown",
      "metadata": {
        "id": "0gqp8LLYrwgp"
      },
      "source": [
        "# Gamma 1E-5\n"
      ]
    },
    {
      "cell_type": "code",
      "metadata": {
        "id": "mtzmoBVbryIt"
      },
      "source": [
        "i = sp500df[sp500df['GICS Sector'] == 'Information Technology']\n"
      ],
      "execution_count": 139,
      "outputs": []
    },
    {
      "cell_type": "code",
      "metadata": {
        "colab": {
          "base_uri": "https://localhost:8080/",
          "height": 35
        },
        "id": "ae44wutXr1LB",
        "outputId": "f603a2f5-da67-4737-8588-1161ac97cfd0"
      },
      "source": [
        "tickerInfo= [] \n",
        "tickerInfo.append(i['Symbol'].values)\n",
        "tickerInfo\n",
        "len(tickerInfo[0])\n",
        "tickerInfo\n",
        "tickerInfo= np.delete(tickerInfo[0], [65])\n",
        "tickerInfo[0]"
      ],
      "execution_count": 140,
      "outputs": [
        {
          "output_type": "execute_result",
          "data": {
            "application/vnd.google.colaboratory.intrinsic+json": {
              "type": "string"
            },
            "text/plain": [
              "'ACN'"
            ]
          },
          "metadata": {
            "tags": []
          },
          "execution_count": 140
        }
      ]
    },
    {
      "cell_type": "code",
      "metadata": {
        "id": "4HGLyub8r2Cs"
      },
      "source": [
        "tail_close = [] \n",
        "predicted_value = []"
      ],
      "execution_count": 141,
      "outputs": []
    },
    {
      "cell_type": "code",
      "metadata": {
        "id": "kjDf38TLr4HI"
      },
      "source": [
        "#for i in range(len(tickerInfo[0])):\n",
        "for symbol in tickerInfo:\n",
        "  #symbol = tickerInfo[0][i]\n",
        "  data = yf.Ticker(symbol)\n",
        "  df = data.history(period='1d', start= '2012-1-1', end = '2021-5-18')\n",
        "  df_Open=df[['Open']]\n",
        "  df_dates2=df.index.to_frame().reset_index(drop=True)\n",
        "  df['Date']= df_dates2['Date'].values\n",
        "  df['Date']= df_dates2['Date'].values\n",
        "  df['Date'] = df['Date'].astype(str)\n",
        "  df['new_date'] = df['Date'].str.replace('\\D', '').astype(int)\n",
        "  actual_price2 = df.tail(1)\n",
        "  actual_close = actual_price2['Close']\n",
        "  tail_close.append(actual_close)\n",
        "  df = df.head(len(df)-1)\n",
        "  days2 = list()\n",
        "  close_prices2= list()\n",
        "  df_days2 = df.loc[:,'new_date']\n",
        "  df_close_price2 = df.loc[:,'Close']\n",
        "  for dates2 in df_days2:\n",
        "    days2.append([int(dates2)])\n",
        "  for price2 in df_close_price2: \n",
        "    close_prices2.append(float(price2))\n",
        "  rbf = SVR(kernel= 'rbf', C= 1000.0, gamma= 1E-5)\n",
        "  print(symbol)\n",
        "  rbf.fit(days2, close_prices2)\n",
        "  day= [[20210517]]\n",
        "  predicted_value.append(rbf.predict(day))\n",
        "\n"
      ],
      "execution_count": null,
      "outputs": []
    },
    {
      "cell_type": "code",
      "metadata": {
        "colab": {
          "base_uri": "https://localhost:8080/"
        },
        "id": "a0LflNqOr8cp",
        "outputId": "ebd27893-5eb6-4c6a-a2e8-14a8ec00a127"
      },
      "source": [
        "print(len(predicted_value))\n",
        "print(len(tail_close))"
      ],
      "execution_count": 143,
      "outputs": [
        {
          "output_type": "stream",
          "text": [
            "73\n",
            "73\n"
          ],
          "name": "stdout"
        }
      ]
    },
    {
      "cell_type": "code",
      "metadata": {
        "id": "_B9qjY9_r98R"
      },
      "source": [
        "sumPredicted = 0 \n",
        "tailActual = 0\n",
        "\n",
        "for index in range(len(predicted_value)):\n",
        "  #print(type(predicted_value[index][0]))\n",
        "  sumPredicted= sumPredicted+ predicted_value[index][0]\n",
        "\n",
        "\n",
        "for index in range(len(predicted_value)):\n",
        "  tailActual = tailActual + tail_close[index][0]"
      ],
      "execution_count": 144,
      "outputs": []
    },
    {
      "cell_type": "code",
      "metadata": {
        "colab": {
          "base_uri": "https://localhost:8080/"
        },
        "id": "7FfmnYwOr_AX",
        "outputId": "91c21f54-5156-4b8a-9b13-5a39ee112a5e"
      },
      "source": [
        "print (sumPredicted)\n",
        "print (tailActual)"
      ],
      "execution_count": 149,
      "outputs": [
        {
          "output_type": "stream",
          "text": [
            "13783.050374563873\n",
            "13740.410015106201\n"
          ],
          "name": "stdout"
        }
      ]
    },
    {
      "cell_type": "code",
      "metadata": {
        "colab": {
          "base_uri": "https://localhost:8080/"
        },
        "id": "BgGAHVgGsB4H",
        "outputId": "2e99e95d-3ab2-4b31-9485-9341435b1720"
      },
      "source": [
        "print('The percent error for this is: ', float((abs(tailActual-(sumPredicted))/tailActual)*100),'%')"
      ],
      "execution_count": 148,
      "outputs": [
        {
          "output_type": "stream",
          "text": [
            "The percent error for this is:  0.3103281445807845 %\n"
          ],
          "name": "stdout"
        }
      ]
    },
    {
      "cell_type": "markdown",
      "metadata": {
        "id": "1RJYadqKuVcS"
      },
      "source": [
        "#ConsumerDiscretionary Gamma 0.1"
      ]
    },
    {
      "cell_type": "code",
      "metadata": {
        "colab": {
          "base_uri": "https://localhost:8080/"
        },
        "id": "XRblMEkjuPyd",
        "outputId": "eeda51c4-5f8b-419b-fad7-eee92ec51274"
      },
      "source": [
        "i = sp500df[sp500df['GICS Sector'] == 'Consumer Discretionary']\n",
        "#print(i)\n",
        "tickerConsDisc= [] \n",
        "tickerConsDisc.append(i['Symbol'].values)\n",
        "tickerConsDisc\n",
        "trial=[]\n",
        "for i in range(len(tickerConsDisc[0])):\n",
        "  symbol = tickerConsDisc[0][i]\n",
        "  #yf.Ticker(symbol)\n",
        "  #trial.append(symbol)\n",
        "  yf.Ticker(symbol)\n",
        "  \n",
        "\n",
        "#for tick in tickerConsDisc: \n",
        "  #yf.Ticker(tick)\n",
        "trial\n",
        "#print(trial)"
      ],
      "execution_count": 152,
      "outputs": [
        {
          "output_type": "execute_result",
          "data": {
            "text/plain": [
              "[]"
            ]
          },
          "metadata": {
            "tags": []
          },
          "execution_count": 152
        }
      ]
    },
    {
      "cell_type": "code",
      "metadata": {
        "id": "lCLslEkIub_k"
      },
      "source": [
        "\n",
        "tail_close = [] \n",
        "predicted_value = []"
      ],
      "execution_count": 153,
      "outputs": []
    },
    {
      "cell_type": "code",
      "metadata": {
        "id": "2v2pVtGuufDI"
      },
      "source": [
        "for i in range(len(tickerConsDisc[0])):\n",
        "  symbol = tickerConsDisc[0][i]\n",
        "  data = yf.Ticker(symbol)\n",
        "  df = data.history(period='1d', start= '2012-1-1', end = '2021-5-18')\n",
        "  df_Open=df[['Open']]\n",
        "  df_dates2=df.index.to_frame().reset_index(drop=True)\n",
        "  df['Date']= df_dates2['Date'].values\n",
        "  df['Date']= df_dates2['Date'].values\n",
        "  df['Date'] = df['Date'].astype(str)\n",
        "  df['new_date'] = df['Date'].str.replace('\\D', '').astype(int)\n",
        "  actual_price2 = df.tail(1)\n",
        "  actual_close = actual_price2['Close']\n",
        "  tail_close.append(actual_close)\n",
        "  df = df.head(len(df)-1)\n",
        "  days2 = list()\n",
        "  close_prices2= list()\n",
        "  df_days2 = df.loc[:,'new_date']\n",
        "  df_close_price2 = df.loc[:,'Close']\n",
        "  for dates2 in df_days2:\n",
        "    days2.append([int(dates2)])\n",
        "  for price2 in df_close_price2: \n",
        "    close_prices2.append(float(price2))\n",
        "  rbf = SVR(kernel= 'rbf', C= 1000.0, gamma= 0.1)\n",
        "  rbf.fit(days2, close_prices2)\n",
        "  day= [[20210517]]\n",
        "  predicted_value.append(rbf.predict(day))\n",
        "\n",
        "\n"
      ],
      "execution_count": 154,
      "outputs": []
    },
    {
      "cell_type": "code",
      "metadata": {
        "colab": {
          "base_uri": "https://localhost:8080/"
        },
        "id": "YFTthIdaum94",
        "outputId": "019e6036-74ac-4824-b301-83c3abbd37f9"
      },
      "source": [
        "print(len(predicted_value))\n",
        "print(len(tail_close))\n",
        "\n"
      ],
      "execution_count": 155,
      "outputs": [
        {
          "output_type": "stream",
          "text": [
            "63\n",
            "63\n"
          ],
          "name": "stdout"
        }
      ]
    },
    {
      "cell_type": "code",
      "metadata": {
        "id": "WiqArDmOuqLO"
      },
      "source": [
        "sumPredicted = 0 \n",
        "tailActual = 0\n",
        "\n",
        "for index in range(len(predicted_value)):\n",
        "  #print(type(predicted_value[index][0]))\n",
        "  sumPredicted= sumPredicted+ predicted_value[index][0]\n",
        "\n",
        "\n",
        "for index in range(len(predicted_value)):\n",
        "  tailActual = tailActual + tail_close[index][0]\n",
        "\n"
      ],
      "execution_count": 156,
      "outputs": []
    },
    {
      "cell_type": "code",
      "metadata": {
        "colab": {
          "base_uri": "https://localhost:8080/"
        },
        "id": "10ErSVDzusNK",
        "outputId": "bf5a5279-07b4-4a14-e30f-ae6efe1a45be"
      },
      "source": [
        "print (sumPredicted)\n",
        "print (tailActual)"
      ],
      "execution_count": 157,
      "outputs": [
        {
          "output_type": "stream",
          "text": [
            "13923.574904337618\n",
            "21405.000024795532\n"
          ],
          "name": "stdout"
        }
      ]
    },
    {
      "cell_type": "code",
      "metadata": {
        "colab": {
          "base_uri": "https://localhost:8080/"
        },
        "id": "OmoSp-vCut0M",
        "outputId": "2bdd39f9-d15e-4b85-be76-7fac73d35205"
      },
      "source": [
        "print('The percent error for this is: ', float((abs(tailActual-(sumPredicted))/tailActual)*100),'%')"
      ],
      "execution_count": 158,
      "outputs": [
        {
          "output_type": "stream",
          "text": [
            "The percent error for this is:  34.951764128901836 %\n"
          ],
          "name": "stdout"
        }
      ]
    },
    {
      "cell_type": "markdown",
      "metadata": {
        "id": "8ikZFhWQ8T66"
      },
      "source": [
        "# 1E-5 ConsumerDiscretionary\n",
        "\n"
      ]
    },
    {
      "cell_type": "code",
      "metadata": {
        "colab": {
          "base_uri": "https://localhost:8080/"
        },
        "id": "VT2jjqOf8XVt",
        "outputId": "49f0ad82-f982-4443-e6cf-c8985334ac54"
      },
      "source": [
        "i = sp500df[sp500df['GICS Sector'] == 'Consumer Discretionary']\n",
        "#print(i)\n",
        "tickerConsDisc= [] \n",
        "tickerConsDisc.append(i['Symbol'].values)\n",
        "tickerConsDisc\n",
        "trial=[]\n",
        "for i in range(len(tickerConsDisc[0])):\n",
        "  symbol = tickerConsDisc[0][i]\n",
        "  #yf.Ticker(symbol)\n",
        "  #trial.append(symbol)\n",
        "  yf.Ticker(symbol)\n",
        "  \n",
        "\n",
        "#for tick in tickerConsDisc: \n",
        "  #yf.Ticker(tick)\n",
        "trial\n",
        "#print(trial)"
      ],
      "execution_count": 161,
      "outputs": [
        {
          "output_type": "execute_result",
          "data": {
            "text/plain": [
              "[]"
            ]
          },
          "metadata": {
            "tags": []
          },
          "execution_count": 161
        }
      ]
    },
    {
      "cell_type": "code",
      "metadata": {
        "id": "Gk7Mp9rV8ZF_"
      },
      "source": [
        "\n",
        "tail_close = [] \n",
        "predicted_value = []"
      ],
      "execution_count": 162,
      "outputs": []
    },
    {
      "cell_type": "code",
      "metadata": {
        "id": "ZhQpO0XN8b_t"
      },
      "source": [
        "for i in range(len(tickerConsDisc[0])):\n",
        "  symbol = tickerConsDisc[0][i]\n",
        "  data = yf.Ticker(symbol)\n",
        "  df = data.history(period='1d', start= '2012-1-1', end = '2021-5-18')\n",
        "  df_Open=df[['Open']]\n",
        "  df_dates2=df.index.to_frame().reset_index(drop=True)\n",
        "  df['Date']= df_dates2['Date'].values\n",
        "  df['Date']= df_dates2['Date'].values\n",
        "  df['Date'] = df['Date'].astype(str)\n",
        "  df['new_date'] = df['Date'].str.replace('\\D', '').astype(int)\n",
        "  actual_price2 = df.tail(1)\n",
        "  actual_close = actual_price2['Close']\n",
        "  tail_close.append(actual_close)\n",
        "  df = df.head(len(df)-1)\n",
        "  days2 = list()\n",
        "  close_prices2= list()\n",
        "  df_days2 = df.loc[:,'new_date']\n",
        "  df_close_price2 = df.loc[:,'Close']\n",
        "  for dates2 in df_days2:\n",
        "    days2.append([int(dates2)])\n",
        "  for price2 in df_close_price2: \n",
        "    close_prices2.append(float(price2))\n",
        "  rbf = SVR(kernel= 'rbf', C= 1000.0, gamma= 1E-5)\n",
        "  rbf.fit(days2, close_prices2)\n",
        "  day= [[20210517]]\n",
        "  predicted_value.append(rbf.predict(day))\n",
        "\n",
        "\n"
      ],
      "execution_count": 163,
      "outputs": []
    },
    {
      "cell_type": "code",
      "metadata": {
        "colab": {
          "base_uri": "https://localhost:8080/"
        },
        "id": "I9qL3sbG8dt_",
        "outputId": "9bbc1d76-2d7b-45f9-a59c-311bafd5498b"
      },
      "source": [
        "print(len(predicted_value))\n",
        "print(len(tail_close))\n",
        "\n"
      ],
      "execution_count": 164,
      "outputs": [
        {
          "output_type": "stream",
          "text": [
            "63\n",
            "63\n"
          ],
          "name": "stdout"
        }
      ]
    },
    {
      "cell_type": "code",
      "metadata": {
        "id": "YUWruQNA8f3V"
      },
      "source": [
        "sumPredicted = 0 \n",
        "tailActual = 0\n",
        "\n",
        "for index in range(len(predicted_value)):\n",
        "  #print(type(predicted_value[index][0]))\n",
        "  sumPredicted= sumPredicted+ predicted_value[index][0]\n",
        "\n",
        "\n",
        "for index in range(len(predicted_value)):\n",
        "  tailActual = tailActual + tail_close[index][0]\n",
        "\n"
      ],
      "execution_count": 165,
      "outputs": []
    },
    {
      "cell_type": "code",
      "metadata": {
        "colab": {
          "base_uri": "https://localhost:8080/"
        },
        "id": "9hNB-D8j8hmW",
        "outputId": "6dcba990-6edd-41fb-848a-eaaba3c4f5f1"
      },
      "source": [
        "print (sumPredicted)\n",
        "print (tailActual)"
      ],
      "execution_count": 166,
      "outputs": [
        {
          "output_type": "stream",
          "text": [
            "21778.098795626152\n",
            "21405.000024795532\n"
          ],
          "name": "stdout"
        }
      ]
    },
    {
      "cell_type": "code",
      "metadata": {
        "colab": {
          "base_uri": "https://localhost:8080/"
        },
        "id": "vQ-i5nlB8jDB",
        "outputId": "5d339187-005e-4439-81ea-505d424cbe3e"
      },
      "source": [
        "print('The percent error for this is: ', float((abs(tailActual-(sumPredicted))/tailActual)*100),'%')"
      ],
      "execution_count": 167,
      "outputs": [
        {
          "output_type": "stream",
          "text": [
            "The percent error for this is:  1.743044944631735 %\n"
          ],
          "name": "stdout"
        }
      ]
    }
  ]
}
